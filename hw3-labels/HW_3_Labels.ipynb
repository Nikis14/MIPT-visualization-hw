{
  "nbformat": 4,
  "nbformat_minor": 0,
  "metadata": {
    "colab": {
      "name": "HW_3_Labels.ipynb",
      "provenance": [],
      "collapsed_sections": []
    },
    "kernelspec": {
      "name": "python3",
      "display_name": "Python 3"
    },
    "language_info": {
      "name": "python"
    }
  },
  "cells": [
    {
      "cell_type": "markdown",
      "metadata": {
        "id": "PyNqwvtwBX4p"
      },
      "source": [
        "### Автор: <i>Северин Никита</i>\n",
        "\n",
        "Выражаю благодарность Игорю Дьяченко за тестовые примеры и скрипт для их парсинга!"
      ]
    },
    {
      "cell_type": "code",
      "metadata": {
        "id": "AcRvxoQeNQao",
        "colab": {
          "base_uri": "https://localhost:8080/"
        },
        "outputId": "4a2eb7ae-554d-4676-be9e-38a8825ffcef"
      },
      "source": [
        "!pip install pycosat\n",
        "!git clone -q https://github.com/Nikis14/MIPT-visualization-hw"
      ],
      "execution_count": 1,
      "outputs": [
        {
          "output_type": "stream",
          "text": [
            "Collecting pycosat\n",
            "\u001b[?25l  Downloading https://files.pythonhosted.org/packages/c0/fd/e38d68774c0a345b0090d608a90f1fbf423970d812f7ec7aef9ac024e648/pycosat-0.6.3.zip (66kB)\n",
            "\r\u001b[K     |█████                           | 10kB 10.0MB/s eta 0:00:01\r\u001b[K     |█████████▉                      | 20kB 11.4MB/s eta 0:00:01\r\u001b[K     |██████████████▊                 | 30kB 9.2MB/s eta 0:00:01\r\u001b[K     |███████████████████▋            | 40kB 8.2MB/s eta 0:00:01\r\u001b[K     |████████████████████████▌       | 51kB 4.5MB/s eta 0:00:01\r\u001b[K     |█████████████████████████████▍  | 61kB 5.1MB/s eta 0:00:01\r\u001b[K     |████████████████████████████████| 71kB 2.9MB/s \n",
            "\u001b[?25hBuilding wheels for collected packages: pycosat\n",
            "  Building wheel for pycosat (setup.py) ... \u001b[?25l\u001b[?25hdone\n",
            "  Created wheel for pycosat: filename=pycosat-0.6.3-cp37-cp37m-linux_x86_64.whl size=143819 sha256=cbf1686fc52af7ef7ed03696ffc68c134121a2b02b4d6c54680869bd1b8774bf\n",
            "  Stored in directory: /root/.cache/pip/wheels/c4/67/ff/5570304e45814eccef48a3c69c3af25d0456ed3a34eddbbe38\n",
            "Successfully built pycosat\n",
            "Installing collected packages: pycosat\n",
            "Successfully installed pycosat-0.6.3\n"
          ],
          "name": "stdout"
        }
      ]
    },
    {
      "cell_type": "code",
      "metadata": {
        "id": "jIkrfJdMyCOL"
      },
      "source": [
        "import pycosat\n",
        "import numpy as np\n",
        "import matplotlib.pyplot as plt\n",
        "from matplotlib.patches import Rectangle\n",
        "%matplotlib inline\n",
        "\n",
        "from itertools import chain, combinations"
      ],
      "execution_count": 2,
      "outputs": []
    },
    {
      "cell_type": "code",
      "metadata": {
        "id": "z0H1U-e2-61d"
      },
      "source": [
        "class Pos:\n",
        "    \"\"\"Класс позиции на холсте\"\"\"\n",
        "    def __init__(self, *arr):\n",
        "        assert len(arr) == 2\n",
        "        self.xy = arr\n",
        "    \n",
        "    def __add__(self, that):\n",
        "        return Pos(*[a + b for a, b in zip(self.xy, that.xy)])\n",
        "    \n",
        "    def __sub__(self, that):\n",
        "        return Pos(*[a - b for a, b in zip(self.xy, that.xy)])\n",
        "    \n",
        "    def __neg__(self):\n",
        "        return Pos(*[-a for a in self.xy])\n",
        "    \n",
        "    def __str__(self):\n",
        "        return str(self.xy)\n",
        "    \n",
        "    def __repr__(self):\n",
        "        return str(self)\n",
        "    \n",
        "    def parse(s):\n",
        "        arr = [int(a) for a in s.split(',')]\n",
        "        return Pos(*arr)\n",
        "\n",
        "\n",
        "class Box:\n",
        "    \"\"\"Класс прямоугольника и точки\"\"\"\n",
        "    border_x = 500\n",
        "    border_y = 500\n",
        "\n",
        "    def __init__(self, line, start_num=1):\n",
        "        arr = line.split('\\t')\n",
        "        self.pos = Pos.parse(arr[0])\n",
        "        self.size = Pos.parse(arr[1])\n",
        "        self.offsets = self._fill_offsets(arr[2].split(' '))\n",
        "        self.props = [start_num + i for i in range(len(self.offsets))]\n",
        "        self.start_num = start_num\n",
        "        assert len(self.offsets) > 0\n",
        "    \n",
        "    def _fill_offsets(self, lst):\n",
        "        offsets = []\n",
        "        for pos_str in lst:\n",
        "            cur_pos = Pos.parse(pos_str)\n",
        "            left_down = self.pos - cur_pos\n",
        "            right_up = left_down + self.size\n",
        "            if all([coord >= 0 for coord in left_down.xy]) and\\\n",
        "            all([coord <= 500 for coord in right_up.xy]):\n",
        "                 offsets.append(cur_pos)\n",
        "        return offsets\n",
        "\n",
        "    def __str__(self):\n",
        "        return 'Box(pos={}, size={}, offsets={}, props={})'.\\\n",
        "                    format(self.pos, self.size, self.offsets, self.props)\n",
        "    \n",
        "    def __repr__(self):\n",
        "        return str(self)\n",
        "\n",
        "\n",
        "def read_input(file_path):\n",
        "    \"\"\"Читает файл с данными\"\"\"\n",
        "    with open(file_path, 'r') as f:\n",
        "        res_boxes = []\n",
        "        start_num = 1\n",
        "        for line in f.readlines():\n",
        "             cur_box = Box(line, start_num)\n",
        "             res_boxes.append(cur_box)\n",
        "             start_num += len(cur_box.offsets)\n",
        "    return res_boxes\n",
        "\n",
        "def build_prop_to_box(boxes):\n",
        "    \"\"\"Ставит в соответсвие каждой переменной объект box\"\"\"\n",
        "    res = {}\n",
        "    for i in range(len(boxes)):\n",
        "        for prop in boxes[i].props:\n",
        "            res[prop] = i\n",
        "    return res"
      ],
      "execution_count": 3,
      "outputs": []
    },
    {
      "cell_type": "code",
      "metadata": {
        "id": "_fiuqnCjA2m0"
      },
      "source": [
        "def powerset(lst):\n",
        "    \"\"\"powerset([1,2,3]) --> () (1,2) (1,3) (2,3) (1,2,3)\"\"\"\n",
        "    possible_nums = [0] + list(range(2, len(lst)+1))\n",
        "    return chain.from_iterable(combinations(lst, r) for r in possible_nums)\n",
        "\n",
        "\n",
        "def default_conditions(boxes):\n",
        "    \"\"\"Создает условия на то, что для каждого квадрата\n",
        "    может быть выбрано только 1 положение\"\"\"\n",
        "    conditions = []\n",
        "    for box in boxes:\n",
        "        power_set = powerset(list(range(len(box.props))))\n",
        "        for ids in power_set:\n",
        "            cur_arr = [x for x in box.props]\n",
        "            for i in ids:\n",
        "                cur_arr[i] = -cur_arr[i]\n",
        "            conditions.append(cur_arr)\n",
        "    return conditions\n",
        "\n",
        "\n",
        "def create_conditions(boxes):\n",
        "    \"\"\"Создает логические условия\"\"\"\n",
        "    def process_x_less(left_down_i, left_down_j, size_i, size_j, cur_condition, elem_to_add):\n",
        "        if left_down_i.xy[1] < left_down_j.xy[1]: #yi < yj\n",
        "            if left_down_i.xy[0] + size_i.xy[0] < left_down_j.xy[0] or\\\n",
        "            left_down_i.xy[1] + size_i.xy[1] < left_down_j.xy[1]:\n",
        "                cur_condition.append(elem_to_add)\n",
        "        #yi >= yj\n",
        "        elif left_down_i.xy[0] + size_i.xy[0] < left_down_j.xy[0] or\\\n",
        "        left_down_i.xy[1] > left_down_j.xy[1] + size_j.xy[1]:\n",
        "            cur_condition.append(elem_to_add)\n",
        "\n",
        "    conditions = default_conditions(boxes)\n",
        "    for i in range(len(boxes)-1):\n",
        "        for j in range(i+1, len(boxes)):\n",
        "            for off_i in range(len(boxes[i].offsets)):\n",
        "                left_down_i = boxes[i].pos - boxes[i].offsets[off_i]\n",
        "                cur_condition = [-boxes[i].props[off_i]]\n",
        "                for off_j in range(len(boxes[j].offsets)):\n",
        "                    left_down_j = boxes[j].pos - boxes[j].offsets[off_j]\n",
        "                    if left_down_i.xy[0] == left_down_j.xy[0] and\\\n",
        "                    left_down_i.xy[1] == left_down_j.xy[1]:\n",
        "                        continue\n",
        "                    if left_down_i.xy[0] < left_down_j.xy[0]: #xi < xj\n",
        "                        process_x_less(left_down_i, left_down_j,\n",
        "                                    boxes[i].size, boxes[j].size,\n",
        "                                    cur_condition, boxes[j].props[off_j]\n",
        "                        )\n",
        "                    #xi >= xj\n",
        "                    else:\n",
        "                        process_x_less(left_down_j, left_down_i,\n",
        "                                    boxes[j].size, boxes[i].size,\n",
        "                                    cur_condition, boxes[j].props[off_j]\n",
        "                        )\n",
        "                if len(cur_condition) < len(boxes[j].offsets) + 1:\n",
        "                    conditions.append(cur_condition)\n",
        "    return conditions"
      ],
      "execution_count": 4,
      "outputs": []
    },
    {
      "cell_type": "code",
      "metadata": {
        "id": "PwkPlYybECC-"
      },
      "source": [
        "def plot_figures(rectangles, points):\n",
        "    \"\"\"Рисует квадраты и соотв. точки на холсте\"\"\"\n",
        "    points_x, points_y = tuple(zip(*points))\n",
        "    colors = [[np.random.random(), np.random.random(), np.random.random()]\n",
        "              for _ in range(len(points_x))]\n",
        "\n",
        "    fig, ax = plt.subplots(figsize=(8, 8))\n",
        "    ax.scatter(points_x, points_y, c = colors)\n",
        "\n",
        "    #add rectangle to plot\n",
        "    for i in range(len(rectangles)):\n",
        "        ax.add_patch(Rectangle(rectangles[i][0],\n",
        "                               rectangles[i][1][0],\n",
        "                               rectangles[i][1][1],\n",
        "                               facecolor = colors[i],\n",
        "                               fill=True))\n",
        "\n",
        "    #ax.set_xticks(range(0, 501, 20))\n",
        "    #ax.set_yticks(range(0, 501, 20))\n",
        "    plt.xticks(rotation=90)\n",
        "    plt.show()"
      ],
      "execution_count": 5,
      "outputs": []
    },
    {
      "cell_type": "code",
      "metadata": {
        "id": "4LNJ-TJ6BYCK"
      },
      "source": [
        "def full_pipeline(boxes):\n",
        "    \"\"\"Полная обработка\"\"\"\n",
        "    prop_to_box = build_prop_to_box(boxes)\n",
        "    conditions = create_conditions(boxes)\n",
        "    sat_solution = pycosat.solve(conditions)\n",
        "    if sat_solution == 'UNSAT':\n",
        "        print('No solution')\n",
        "        return\n",
        "    if sat_solution == 'UNKNOWN':\n",
        "        print('SAT-solver can\\'t calculate solution')\n",
        "        return\n",
        "    \n",
        "    sat_solution = np.array(sat_solution)\n",
        "    final_props = sat_solution[sat_solution > 0]\n",
        "\n",
        "    rectangles_to_show = []\n",
        "    points_to_show = []\n",
        "    for prop in final_props:\n",
        "        cur_box = boxes[prop_to_box[prop]]\n",
        "        left_down = cur_box.pos - cur_box.offsets[prop-cur_box.start_num]\n",
        "        rectangles_to_show.append((left_down.xy, cur_box.size.xy))\n",
        "        points_to_show.append(cur_box.pos.xy)\n",
        "    plot_figures(rectangles_to_show, points_to_show)"
      ],
      "execution_count": 6,
      "outputs": []
    },
    {
      "cell_type": "markdown",
      "metadata": {
        "id": "tBbHg7e5kAyi"
      },
      "source": [
        "Чтение данных и вызов функции для обработки"
      ]
    },
    {
      "cell_type": "code",
      "metadata": {
        "id": "0CM01zn0AmkN",
        "colab": {
          "base_uri": "https://localhost:8080/",
          "height": 492
        },
        "outputId": "7b8d80e5-f869-4904-82ea-75128aac1ff7"
      },
      "source": [
        "boxes = read_input('MIPT-visualization-hw/hw3-labels/data/hard6.txt')\n",
        "full_pipeline(boxes)"
      ],
      "execution_count": 8,
      "outputs": [
        {
          "output_type": "display_data",
          "data": {
            "image/png": "[encoded data removed]",
            "text/plain": [
              "<Figure size 576x576 with 1 Axes>"
            ]
          },
          "metadata": {
            "tags": [],
            "needs_background": "light"
          }
        }
      ]
    }
  ]
}