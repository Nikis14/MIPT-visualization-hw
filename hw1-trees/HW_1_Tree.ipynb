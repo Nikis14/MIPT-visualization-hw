{
  "nbformat": 4,
  "nbformat_minor": 0,
  "metadata": {
    "colab": {
      "name": "HW_1_Tree.ipynb",
      "provenance": [],
      "collapsed_sections": []
    },
    "kernelspec": {
      "name": "python3",
      "display_name": "Python 3"
    },
    "language_info": {
      "name": "python"
    }
  },
  "cells": [
    {
      "cell_type": "code",
      "metadata": {
        "id": "6UwL3rQKiBcC"
      },
      "source": [
        "import networkx as nx\n",
        "import matplotlib.pyplot as plt\n",
        "%matplotlib inline"
      ],
      "execution_count": 1,
      "outputs": []
    },
    {
      "cell_type": "code",
      "metadata": {
        "id": "0zaUMJw783ZA"
      },
      "source": [
        "class Node():\n",
        "    \"\"\"Класс вершины дерева\"\"\"\n",
        "\n",
        "    def __init__(self, name):\n",
        "        self.name = name\n",
        "        self.children = []\n",
        "        self.x = None\n",
        "        self.y = None\n",
        "        self.children_shifts = [0]\n",
        "        self.shift = 0\n",
        "\n",
        "    def add_child(self, child_node):\n",
        "        \"\"\"Добавление потомка вершины\"\"\"\n",
        "        self.children.append(child_node)\n",
        "\n",
        "    def set_coords(self, x, y):\n",
        "        \"\"\"Задает начальные координаты вершины и ее потомков\"\"\"\n",
        "        middle = len(self.children) // 2\n",
        "        for i in range(0, middle):\n",
        "            y = self.children[i].set_coords(x + 1, y)\n",
        "        self.x, self.y = x, y\n",
        "        if len(self.children) != 1:\n",
        "            y += 1\n",
        "        for i in range(middle, len(self.children)):\n",
        "            y = self.children[i].set_coords(x + 1, y)\n",
        "        return y\n",
        "\n",
        "\n",
        "class Tree():\n",
        "    \"\"\"Класс дерева\"\"\"\n",
        "    def __init__(self, file_name):\n",
        "        G = nx.read_graphml(file_name)\n",
        "        self.root = self.build_tree(list(G.nodes()), list(G.edges())) #корень дерева\n",
        "        self.contour = None\n",
        "        self.size = len(list(G.nodes()))\n",
        "\n",
        "    def build_tree(self, node_lst, edge_lst):\n",
        "        \"\"\"Построение дерева из списка вершин и ребер\"\"\"\n",
        "        nodes = dict()\n",
        "        possible_roots = set(node_lst)\n",
        "        for edge in edge_lst:\n",
        "            possible_roots.remove(edge[1])\n",
        "            if edge[1] not in nodes:\n",
        "                nodes[edge[1]] = Node(edge[1])\n",
        "            if edge[0] not in nodes:\n",
        "                nodes[edge[0]] = Node(edge[0])\n",
        "                nodes[edge[0]].add_child(nodes[edge[1]])\n",
        "            else:\n",
        "                nodes[edge[0]].add_child(nodes[edge[1]])\n",
        "        return nodes[possible_roots.pop()]\n",
        "\n",
        "    def set_nodes_coords(self):\n",
        "        \"\"\"Задает координаты корня и его потомков\"\"\"\n",
        "        self.root.set_coords(0, 0)\n",
        "\n",
        "    def shift_contours(self):\n",
        "        \"\"\"Делает сдвиг координат вершин\"\"\"\n",
        "        def get_subtree_contour(root):\n",
        "            if len(root.children) == 0:\n",
        "                return [(root.y, root.y)]\n",
        "            left_contour = get_subtree_contour(root.children[0])\n",
        "            for i in range(1, len(root.children)):\n",
        "                right_countour = get_subtree_contour(root.children[i])\n",
        "                right_countour, shift = make_shift(left_contour, right_countour)\n",
        "                root.children_shifts.append(shift)\n",
        "                left_contour = unite_contours(left_contour, right_countour)\n",
        "            if len(left_contour) > 0:\n",
        "                root.y = sum(left_contour[0]) // 2\n",
        "            return [(root.y, root.y)] + left_contour\n",
        "\n",
        "        def make_shift(left_contour, right_countour):\n",
        "            min_len = min(len(left_contour), len(right_countour))\n",
        "            shift = -1\n",
        "            for i in range(min_len):\n",
        "                possible_shift = right_countour[i][0] - left_contour[i][1] - 1\n",
        "                if shift == -1:\n",
        "                    shift = possible_shift\n",
        "                elif possible_shift < shift:\n",
        "                    shift = possible_shift\n",
        "            if shift > 0:\n",
        "                for i in range(len(right_countour)):\n",
        "                    right_countour[i] = (right_countour[i][0] - shift,\n",
        "                                        right_countour[i][1] - shift)\n",
        "            return right_countour, shift\n",
        "\n",
        "        def unite_contours(left_contour, right_countour):\n",
        "            min_len = min(len(left_contour), len(right_countour))\n",
        "            res = [(left_contour[i][0], right_countour[i][1]) for i in range(min_len)]\n",
        "            for i in range(min_len, len(left_contour)):\n",
        "                res.append(left_contour[i])\n",
        "            for i in range(min_len, len(right_countour)):\n",
        "                res.append(right_countour[i])\n",
        "            return res\n",
        "\n",
        "        self.contour = get_subtree_contour(self.root)\n",
        "\n",
        "    def show(self):\n",
        "        \"\"\"Строит изображение графа\"\"\"\n",
        "        def make_coord_lst(node, shift):\n",
        "            node_coord_lst = [(node.name, node.y-shift, -node.x)]\n",
        "            edges = []\n",
        "            for i in range(len(node.children)):\n",
        "                edges.append((node.name, node.children[i].name))\n",
        "                child_coord_lst, child_edges = make_coord_lst(node.children[i], shift+node.children_shifts[i])\n",
        "                node_coord_lst += child_coord_lst\n",
        "                edges += child_edges\n",
        "            return node_coord_lst, edges\n",
        "\n",
        "        xticks_max = self.size\n",
        "        if self.contour is not None:\n",
        "            xticks_max = max(map(lambda x: x[1], self.contour))\n",
        "\n",
        "        coord_lst, edges = make_coord_lst(self.root, 0)\n",
        "        G_to_draw = nx.DiGraph()\n",
        "        for i in range(len(coord_lst)):\n",
        "            G_to_draw.add_node(coord_lst[i][0], pos=(coord_lst[i][1], coord_lst[i][2]))\n",
        "        G_to_draw.add_edges_from(edges)\n",
        "\n",
        "        fig, ax = plt.subplots()\n",
        "        nx.draw_networkx(\n",
        "            G_to_draw,\n",
        "            nx.get_node_attributes(G_to_draw, 'pos'),\n",
        "            with_labels=False,\n",
        "            node_size=100,\n",
        "            ax=ax\n",
        "        )\n",
        "        ax.tick_params(left=True, bottom=True, labelleft=True, labelbottom=True)\n",
        "        ax.set_xticks(range(0, xticks_max+1, 2))\n",
        "        plt.grid('on')\n",
        "        \n",
        "        plt.show()"
      ],
      "execution_count": 39,
      "outputs": []
    },
    {
      "cell_type": "code",
      "metadata": {
        "colab": {
          "base_uri": "https://localhost:8080/",
          "height": 265
        },
        "id": "OncwlZZQBkHE",
        "outputId": "3aa3ce0e-1154-4d5e-82bf-13fc8ac7e6ad"
      },
      "source": [
        "tree = Tree('data/binary-tree-28n.xml')\n",
        "tree.set_nodes_coords()\n",
        "tree.shift_contours()\n",
        "tree.show()"
      ],
      "execution_count": 42,
      "outputs": [
        {
          "output_type": "display_data",
          "data": {
            "image/png": "[encoded data removed]",
            "text/plain": [
              "<Figure size 432x288 with 1 Axes>"
            ]
          },
          "metadata": {
            "tags": [],
            "needs_background": "light"
          }
        }
      ]
    },
    {
      "cell_type": "code",
      "metadata": {
        "id": "8oY5tjpOdHtT"
      },
      "source": [
        ""
      ],
      "execution_count": null,
      "outputs": []
    }
  ]
}